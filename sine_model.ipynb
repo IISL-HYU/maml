{
 "cells": [
  {
   "cell_type": "code",
   "execution_count": 35,
   "metadata": {},
   "outputs": [],
   "source": [
    "from tensorflow.keras.utils import plot_model\n",
    "import tensorflow.keras as keras \n"
   ]
  },
  {
   "cell_type": "markdown",
   "metadata": {},
   "source": [
    "### ANN model for sine fitting"
   ]
  },
  {
   "cell_type": "code",
   "execution_count": 36,
   "metadata": {},
   "outputs": [],
   "source": [
    "class SineModel(keras.Model):\n",
    "    def __init__(self):\n",
    "        super().__init__()\n",
    "        self.hidden1 = keras.layers.Dense(40, input_shape=(1,))\n",
    "        self.hidden2 = keras.layers.Dense(40)\n",
    "        self.out = keras.layers.Dense(1) \n",
    "    \n",
    "    def forward(self, x):\n",
    "        x = keras.activations.relu(self.hidden1(x))\n",
    "        x = keras.activations.relu(self.hidden2(x))\n",
    "        x = self.out(x) \n",
    "        return x "
   ]
  },
  {
   "cell_type": "markdown",
   "metadata": {},
   "source": [
    "### Sinusoid Generator"
   ]
  },
  {
   "cell_type": "code",
   "execution_count": 50,
   "metadata": {},
   "outputs": [],
   "source": [
    "import numpy as np \n",
    "import matplotlib.pyplot as plt \n",
    "\n",
    "class SinusoidGenerator():\n",
    "    ''' \n",
    "    Sinusoid Generator.\n",
    "\n",
    "    p(T) is continuous, where the amplitude varies within [0.1, 5.0]\n",
    "    and the phase varies within [0, pi]\n",
    "    '''\n",
    "\n",
    "    def __init__(self, K=10, amplitude=None, phase=None):\n",
    "        ''' \n",
    "        Args:\n",
    "        K: batch size. Number of values sampled at every batch\n",
    "        amplitude: Sine wave Amplitude. If None, uniformly sampled from [0.1, 5.0]\n",
    "        phase: Sine wave phase. If None, uniformly sample from [0, pi] interval\n",
    "        '''\n",
    "        self.K = K \n",
    "        self.amplitude = amplitude if amplitude else np.random.uniform(0.1, 5.0)\n",
    "        self.phase = phase if amplitude else np.random.uniform(0, np.pi)\n",
    "        self.sampled_points = None \n",
    "        self.x = self._sample_x() \n",
    "    \n",
    "    def _sample_x(self):\n",
    "        return np.random.uniform(-5, 5, self.K) \n",
    "\n",
    "    def f(self, x):\n",
    "        '''Sine wave function'''\n",
    "        return self.amplitude * np.sin(x - self.phase) \n",
    "\n",
    "    def batch(self, x = None, force_new=False):\n",
    "        print(x)\n",
    "        if x is None:\n",
    "            if force_new:\n",
    "                x = self._sample_x() \n",
    "            else: \n",
    "                x = self.x \n",
    "        y = self.f(x) \n",
    "        return x[:, None], y[:, None] \n",
    "\n",
    "    def equally_spaced_samples(self, K=None):\n",
    "        \"\"\"Returns `K` equally spaced samples\"\"\"\n",
    "        if K is None:\n",
    "            K = self.K \n",
    "        return self.batch(x=np.linspace(-5, 5, K))"
   ]
  },
  {
   "cell_type": "markdown",
   "metadata": {},
   "source": [
    "### Util Functions"
   ]
  },
  {
   "cell_type": "code",
   "execution_count": 4,
   "metadata": {},
   "outputs": [],
   "source": [
    "def plot(data, *args, **kwargs):\n",
    "    x, y = data \n",
    "    return plt.plot(x, y, *args, **kwargs) \n",
    "\n",
    "def generate_dataset(K, train_size=20000, test_size=10):\n",
    "    def _generate_dataset(size):\n",
    "        return [SinusoidGenerator(K=K) for _ in range(size)]\n",
    "    return _generate_dataset(train_size), _generate_dataset(test_size)"
   ]
  },
  {
   "cell_type": "markdown",
   "metadata": {},
   "source": [
    "### Train Sine Model "
   ]
  },
  {
   "cell_type": "code",
   "execution_count": 37,
   "metadata": {},
   "outputs": [],
   "source": [
    "import os \n",
    "import sys \n",
    "import random \n",
    "import numpy as np \n",
    "import tensorflow as tf \n",
    "import time \n",
    "import matplotlib.pyplot as plt \n",
    "\n",
    "# tf.keras.backend.set_floatx('float64')\n",
    "\n",
    "def np_to_tensor(list_of_numpy_objs):\n",
    "    return (tf.convert_to_tensor(obj) for obj in list_of_numpy_objs)\n",
    "\n",
    "def copy_model(mode, x):\n",
    "    copied_model = SineModel() \n",
    "    copied_model.forward(x) \n",
    "    copied_model.set_weights(mode.get_weights())\n",
    "    return copied_model \n",
    "\n",
    "def loss_fn(y, pred_y):\n",
    "    return tf.reduce_mean(tf.keras.metrics.mean_squared_error(y, pred_y))\n",
    "\n",
    "def compute_loss(model, x, y, loss_fn=loss_fn):\n",
    "    logits = model.forward(x) \n",
    "    mse = loss_fn(logits, y) \n",
    "    return mse, logits \n",
    "\n",
    "def compute_gradients(model, x, y, loss_fn=loss_fn):\n",
    "    with tf.GradientTape() as tape:\n",
    "        loss, logits = compute_loss(model, x, y, loss_fn) \n",
    "    return tape.gradient(loss, model.trainable_variables), loss \n",
    "\n",
    "def apply_gradients(optimizer, gradients, variables):\n",
    "    optimizer.apply_gradients(zip(gradients, variables))\n",
    "\n",
    "def train_step(x, y, model, optimizer):\n",
    "    tensor_x, tensor_y = np_to_tensor((x, y))\n",
    "    gradients, loss = compute_gradients(model, tensor_x, tensor_y)\n",
    "    apply_gradients(optimizer, gradients, model.trainable_variables)\n",
    "    return loss \n",
    "\n",
    "def regular_train(model, train_ds, epochs=1, lr=0.001, log_steps=1000):\n",
    "    optimizer = tf.keras.optimizers.Adam(learning_rate=lr)\n",
    "    for epoch in range(epochs):\n",
    "        losses = []\n",
    "        total_loss = 0 \n",
    "        start = time.time() \n",
    "        for i, sinusoid_generator in enumerate(train_ds):\n",
    "            x, y = sinusoid_generator.batch()\n",
    "            loss = train_step(x, y, model, optimizer)\n",
    "            total_loss += loss \n",
    "            curr_loss = total_loss / (i + 1.0) \n",
    "            losses.append(curr_loss)\n",
    "\n",
    "            if i % log_steps == 0 and i > 0 : \n",
    "                print(f\"step{i}: loss={curr_loss}, Time to run {log_steps} steps = {time.time()-start:.2f} seconds\")\n",
    "                start = time.time() \n",
    "        plt.plot(losses)\n",
    "        plt.title(\"Loss\")\n",
    "        plt.show() \n",
    "    return model \n",
    "\n",
    "def maml_train(model, train_ds, epochs=1, lr_inner=0.01, batch_size=1, log_steps=1000):\n",
    "    optimizer = tf.keras.optimizers.Adam() \n",
    "    for epoch in range(epochs):\n",
    "        losses = []\n",
    "        total_loss = 0 \n",
    "        start = time.time() \n",
    "\n",
    "        for i, ds in enumerate(random.sample(train_ds, len(train_ds))):\n",
    "            x, y = np_to_tensor(ds.batch())\n",
    "            model.forward(x)\n",
    "            with tf.GradientTape() as test_tape:\n",
    "                with tf.GradientTape() as train_tape:\n",
    "                    train_loss, _ = compute_loss(model, x, y) \n",
    "                gradients = train_tape.gradient(train_loss, model.trainable_variables)\n",
    "                k=0\n",
    "                model_copy = copy_model(model, x) \n",
    "\n",
    "                for j in range(len(model_copy.layers)):\n",
    "                    model_copy.layers[j].kernel = tf.subtract(model.layers[j].kernel, tf.multiply(lr_inner, gradients[k]))\n",
    "                    model_copy.layers[j].bias = tf.subtract(model.layers[j].bias, tf.multiply(lr_inner, gradients[k+1]))\n",
    "                    k += 2 \n",
    "                test_loss, logits = compute_loss(model_copy, x, y)\n",
    "            gradients = test_tape.gradient(test_loss, model.trainable_variables)\n",
    "            optimizer.apply_gradients(zip(gradients, model.trainable_variables))\n",
    "\n",
    "            # logs \n",
    "            total_loss += test_loss\n",
    "            loss = total_loss / (i+1.0) \n",
    "            losses.append(loss)\n",
    "\n",
    "            if i % log_steps == 0 and i > 0 :\n",
    "                print(f\"step{i}: loss={loss}, Time to run {log_steps} steps = {time.time()-start:.2f} seconds\")\n",
    "                start = time.time() \n",
    "        plt.plot(losses)\n",
    "        plt.title(\"Loss-MAML\")\n",
    "        plt.show()\n",
    "        return model \n",
    "\n",
    "def plot_model_comparison_to_average(model, ds, model_name='lll', K=5):\n",
    "    '''Compare model to average\n",
    "    \n",
    "    Computes mean of training sine waves actual `y` and compare to \n",
    "    the model's prediction to a new sinewave, the intuition is that \n",
    "    these two plots should be similar '''\n",
    "    sinu_generator = SinusoidGenerator(K=K)\n",
    "\n",
    "    # calculate average prediction \n",
    "    avg_pred = [] \n",
    "    for i, sinusoid_generator in enumerate(ds):\n",
    "        x, y = sinusoid_generator.equally_spaced_samples() \n",
    "        avg_pred.append(y) \n",
    "    \n",
    "    x, _ = sinu_generator.equally_spaced_samples()\n",
    "    avg_plot, = plt.plot(x, np.mean(avg_pred, axis=0), '--')\n",
    "\n",
    "    # calculate model prediction\n",
    "    model_pred = model.forward(tf.convert_to_tensor(x))\n",
    "    model_plot, = plt.plot(x, model_pred.numpy())\n",
    "\n",
    "    # plot \n",
    "    plt.legend([avg_plot, model_plot], [\"average plot\", model_name]) \n",
    "    plt.title(model_name)\n",
    "    plt.show() \n",
    "\n",
    "def eval_sine_test(model, optimizer, x, y, x_test, y_test, num_steps=(0, 1, 10)):\n",
    "    \"\"\"Evaluate how the model fits to the curve training for `fits` steps.\n",
    "    \n",
    "    Args: \n",
    "        model: Model evaluated.\n",
    "        optimizer: Optimizer to be for training\n",
    "        x : Data used for training \n",
    "        y : Targets used for training \n",
    "        x_test : Data used for evaluation \n",
    "        y_test : Targets used for evaluation \n",
    "        num_steps : Number of steps to log \n",
    "    \"\"\"\n",
    "    fit_res = [] \n",
    "\n",
    "    tensor_x_test, tensor_y_test = np_to_tensor((x_test, y_test)) \n",
    "\n",
    "    if 0 in num_steps: \n",
    "        loss, logits = compute_loss(model, tensor_x_test, tensor_y_test)\n",
    "        fit_res.append((0, logits, loss)) \n",
    "    \n",
    "    for step in range(1, np.max(num_steps) + 1 ):\n",
    "        train_step(x, y, model, optimizer)\n",
    "        loss, logits = compute_loss(model, tensor_x_test, tensor_y_test)\n",
    "        if step in num_steps:\n",
    "            fit_res.append(\n",
    "                (\n",
    "                    step,\n",
    "                    logits,\n",
    "                    loss\n",
    "                )\n",
    "            )\n",
    "    return fit_res \n",
    "\n",
    "def eval_sinewave_for_test(model, sinusoid_generator=None, num_steps=(0, 1, 10), lr=0.01, plot=True, name=None):\n",
    "    \"\"\"Evaluates how the sinewave adapts at dataset.\n",
    "    \n",
    "    The idea is to use the pretrained model as a weight initializer and try to fit the model\n",
    "    on this new dataset. \n",
    "    \n",
    "    Args:\n",
    "        model : Already trained model\n",
    "        sinusoid_generator : A sinusoid Generator instance \n",
    "        num_steps : Number of training steps to be logged.\n",
    "        lr : learning rate used for training on the test data \n",
    "        plot : If plot is True, plots how the curves are fitted along `num_steps`\n",
    "    \"\"\"\n",
    "\n",
    "    if sinusoid_generator is None:\n",
    "        sinusoid_generator = SinusoidGenerator(K=5)\n",
    "    \n",
    "    # Generate equally spaced samples for plotting \n",
    "    x_test, y_test = sinusoid_generator.equally_spaced_samples(100)\n",
    "\n",
    "    # batch used for training \n",
    "    x, y = sinusoid_generator.batch() \n",
    "\n",
    "    # copy model so we can use the same model multiple times \n",
    "    copied_model = copy_model(model, x) \n",
    "\n",
    "    # use SGD for this part of training as described in the paper \n",
    "    optimizer = tf.keras.optimizers.SGD(learning_rate=lr) \n",
    "\n",
    "    # run training and log fit results\n",
    "    fit_res = eval_sine_test(copied_model, optimizer, x, y, x_test, y_test, num_steps)\n",
    "\n",
    "    # plot \n",
    "    train, = plt.plot(x, y, '^')\n",
    "    ground_truth, = plt.plot(x_test, y_test)\n",
    "    plots = [train, ground_truth]\n",
    "    legend = [\"trained\", \"True value\"]\n",
    "\n",
    "    for n, res, loss in fit_res:\n",
    "        cur, = plt.plot(x_test, res[:, 0], '--')\n",
    "        plots.append(cur)\n",
    "        legend.append(f\"{n}-th steps\")\n",
    "    plt.legend(plots, legend)\n",
    "    plt.ylim(-5, 5)\n",
    "    plt.xlim(-6, 6)\n",
    "    plt.title(name)\n",
    "    if plot:\n",
    "        plt.show() \n",
    "    return fit_res \n",
    "\n",
    "\n",
    "def compare_maml_and_neural_net(maml, neural_net, sinusoid_generator, num_steps=list(range(10)),\n",
    "                                intermediate_plot=True, marker='x', linestyle='--', figure_name=None):\n",
    "    \"\"\"Compare the loss of a MAML model and a neural net\n",
    "    \n",
    "    Fits the models for a new task (new sinewave) and then plot\n",
    "    the loss of both models along `num_steps` interactions.\n",
    "    \n",
    "    Args:\n",
    "        maml: An already trained MAML\n",
    "        neural_net: An already trained neural net.\n",
    "        num_steps : Number of steps to be logged \n",
    "        intermediate_plot : If True, plots from `eval_sinewave_for_test`\n",
    "        marker: Marker used for plotting \n",
    "        linestyle : Line style used for plotting \n",
    "    \"\"\"\n",
    "\n",
    "    if intermediate_plot:\n",
    "        print(\"MAML\")\n",
    "    fit_maml = eval_sinewave_for_test(maml, sinusoid_generator, plot=intermediate_plot, name=figure_name)\n",
    "    if intermediate_plot:\n",
    "        print(\"Neural Net\")\n",
    "    fit_neural_net = eval_sinewave_for_test(neural_net, sinusoid_generator, plot=intermediate_plot, name=figure_name)\n",
    "    fit_res = {\"MAML\": fit_maml, \"ANN\": fit_neural_net}\n",
    "\n",
    "    legend = [] \n",
    "    for name in fit_res:\n",
    "        x = [] \n",
    "        y = [] \n",
    "        for n, _, loss in fit_res[name]:\n",
    "            x.append(n) \n",
    "            y.append(loss) \n",
    "        plt.plot(x, y, marker=marker, linestyle=linestyle)\n",
    "        plt.xticks(num_steps)\n",
    "        legend.append(name) \n",
    "    plt.title(\"---\")\n",
    "    plt.legend(legend)\n",
    "    plt.show() \n",
    "    \n",
    "\n"
   ]
  },
  {
   "cell_type": "code",
   "execution_count": 40,
   "metadata": {},
   "outputs": [],
   "source": [
    "model = SineModel() \n",
    "train_ds, test_ds = generate_dataset(K=5)\n",
    "name = 'tester K=5, lr=0.001'\n"
   ]
  },
  {
   "cell_type": "code",
   "execution_count": 39,
   "metadata": {},
   "outputs": [
    {
     "name": "stdout",
     "output_type": "stream",
     "text": [
      "None\n"
     ]
    },
    {
     "ename": "NotFoundError",
     "evalue": "No registered 'ResourceApplyAdam' OpKernel for 'GPU' devices compatible with node {{node ResourceApplyAdam}}\n\t (OpKernel was found, but attributes didn't match) Requested Attributes: T=DT_DOUBLE, use_locking=true, use_nesterov=false\n\t.  Registered:  device='GPU'; T in [DT_FLOAT]\n  device='CPU'; T in [DT_HALF]\n  device='CPU'; T in [DT_BFLOAT16]\n  device='CPU'; T in [DT_FLOAT]\n  device='CPU'; T in [DT_DOUBLE]\n  device='CPU'; T in [DT_COMPLEX64]\n  device='CPU'; T in [DT_COMPLEX128]\n [Op:ResourceApplyAdam]",
     "output_type": "error",
     "traceback": [
      "\u001b[0;31m---------------------------------------------------------------------------\u001b[0m",
      "\u001b[0;31mNotFoundError\u001b[0m                             Traceback (most recent call last)",
      "\u001b[1;32m/Users/sam/Desktop/projects/maml/sine_model.ipynb Cell 11\u001b[0m in \u001b[0;36m<module>\u001b[0;34m\u001b[0m\n\u001b[0;32m----> <a href='vscode-notebook-cell:/Users/sam/Desktop/projects/maml/sine_model.ipynb#X13sZmlsZQ%3D%3D?line=0'>1</a>\u001b[0m neural_model \u001b[39m=\u001b[39m regular_train(model, train_ds\u001b[39m=\u001b[39;49mtrain_ds)\n",
      "\u001b[1;32m/Users/sam/Desktop/projects/maml/sine_model.ipynb Cell 11\u001b[0m in \u001b[0;36mregular_train\u001b[0;34m(model, train_ds, epochs, lr, log_steps)\u001b[0m\n\u001b[1;32m     <a href='vscode-notebook-cell:/Users/sam/Desktop/projects/maml/sine_model.ipynb#X13sZmlsZQ%3D%3D?line=47'>48</a>\u001b[0m \u001b[39mfor\u001b[39;00m i, sinusoid_generator \u001b[39min\u001b[39;00m \u001b[39menumerate\u001b[39m(train_ds):\n\u001b[1;32m     <a href='vscode-notebook-cell:/Users/sam/Desktop/projects/maml/sine_model.ipynb#X13sZmlsZQ%3D%3D?line=48'>49</a>\u001b[0m     x, y \u001b[39m=\u001b[39m sinusoid_generator\u001b[39m.\u001b[39mbatch()\n\u001b[0;32m---> <a href='vscode-notebook-cell:/Users/sam/Desktop/projects/maml/sine_model.ipynb#X13sZmlsZQ%3D%3D?line=49'>50</a>\u001b[0m     loss \u001b[39m=\u001b[39m train_step(x, y, model, optimizer)\n\u001b[1;32m     <a href='vscode-notebook-cell:/Users/sam/Desktop/projects/maml/sine_model.ipynb#X13sZmlsZQ%3D%3D?line=50'>51</a>\u001b[0m     total_loss \u001b[39m+\u001b[39m\u001b[39m=\u001b[39m loss \n\u001b[1;32m     <a href='vscode-notebook-cell:/Users/sam/Desktop/projects/maml/sine_model.ipynb#X13sZmlsZQ%3D%3D?line=51'>52</a>\u001b[0m     curr_loss \u001b[39m=\u001b[39m total_loss \u001b[39m/\u001b[39m (i \u001b[39m+\u001b[39m \u001b[39m1.0\u001b[39m) \n",
      "\u001b[1;32m/Users/sam/Desktop/projects/maml/sine_model.ipynb Cell 11\u001b[0m in \u001b[0;36mtrain_step\u001b[0;34m(x, y, model, optimizer)\u001b[0m\n\u001b[1;32m     <a href='vscode-notebook-cell:/Users/sam/Desktop/projects/maml/sine_model.ipynb#X13sZmlsZQ%3D%3D?line=36'>37</a>\u001b[0m tensor_x, tensor_y \u001b[39m=\u001b[39m np_to_tensor((x, y))\n\u001b[1;32m     <a href='vscode-notebook-cell:/Users/sam/Desktop/projects/maml/sine_model.ipynb#X13sZmlsZQ%3D%3D?line=37'>38</a>\u001b[0m gradients, loss \u001b[39m=\u001b[39m compute_gradients(model, tensor_x, tensor_y)\n\u001b[0;32m---> <a href='vscode-notebook-cell:/Users/sam/Desktop/projects/maml/sine_model.ipynb#X13sZmlsZQ%3D%3D?line=38'>39</a>\u001b[0m apply_gradients(optimizer, gradients, model\u001b[39m.\u001b[39;49mtrainable_variables)\n\u001b[1;32m     <a href='vscode-notebook-cell:/Users/sam/Desktop/projects/maml/sine_model.ipynb#X13sZmlsZQ%3D%3D?line=39'>40</a>\u001b[0m \u001b[39mreturn\u001b[39;00m loss\n",
      "\u001b[1;32m/Users/sam/Desktop/projects/maml/sine_model.ipynb Cell 11\u001b[0m in \u001b[0;36mapply_gradients\u001b[0;34m(optimizer, gradients, variables)\u001b[0m\n\u001b[1;32m     <a href='vscode-notebook-cell:/Users/sam/Desktop/projects/maml/sine_model.ipynb#X13sZmlsZQ%3D%3D?line=32'>33</a>\u001b[0m \u001b[39mdef\u001b[39;00m \u001b[39mapply_gradients\u001b[39m(optimizer, gradients, variables):\n\u001b[0;32m---> <a href='vscode-notebook-cell:/Users/sam/Desktop/projects/maml/sine_model.ipynb#X13sZmlsZQ%3D%3D?line=33'>34</a>\u001b[0m     optimizer\u001b[39m.\u001b[39;49mapply_gradients(\u001b[39mzip\u001b[39;49m(gradients, variables))\n",
      "File \u001b[0;32m~/tensorflow-test/env/lib/python3.8/site-packages/keras/optimizer_v2/optimizer_v2.py:672\u001b[0m, in \u001b[0;36mOptimizerV2.apply_gradients\u001b[0;34m(self, grads_and_vars, name, experimental_aggregate_gradients)\u001b[0m\n\u001b[1;32m    669\u001b[0m grads_and_vars \u001b[39m=\u001b[39m \u001b[39mself\u001b[39m\u001b[39m.\u001b[39m_transform_gradients(grads_and_vars)\n\u001b[1;32m    671\u001b[0m \u001b[39mif\u001b[39;00m optimizer_utils\u001b[39m.\u001b[39mstrategy_supports_no_merge_call():\n\u001b[0;32m--> 672\u001b[0m   \u001b[39mreturn\u001b[39;00m \u001b[39mself\u001b[39;49m\u001b[39m.\u001b[39;49m_distributed_apply(strategy, grads_and_vars, name,\n\u001b[1;32m    673\u001b[0m                                  apply_state)\n\u001b[1;32m    674\u001b[0m \u001b[39melse\u001b[39;00m:\n\u001b[1;32m    675\u001b[0m   \u001b[39mreturn\u001b[39;00m tf\u001b[39m.\u001b[39mdistribute\u001b[39m.\u001b[39mget_replica_context()\u001b[39m.\u001b[39mmerge_call(\n\u001b[1;32m    676\u001b[0m       functools\u001b[39m.\u001b[39mpartial(\u001b[39mself\u001b[39m\u001b[39m.\u001b[39m_distributed_apply, apply_state\u001b[39m=\u001b[39mapply_state),\n\u001b[1;32m    677\u001b[0m       args\u001b[39m=\u001b[39m(grads_and_vars,),\n\u001b[1;32m    678\u001b[0m       kwargs\u001b[39m=\u001b[39m{\n\u001b[1;32m    679\u001b[0m           \u001b[39m\"\u001b[39m\u001b[39mname\u001b[39m\u001b[39m\"\u001b[39m: name,\n\u001b[1;32m    680\u001b[0m       })\n",
      "File \u001b[0;32m~/tensorflow-test/env/lib/python3.8/site-packages/keras/optimizer_v2/optimizer_v2.py:721\u001b[0m, in \u001b[0;36mOptimizerV2._distributed_apply\u001b[0;34m(self, distribution, grads_and_vars, name, apply_state)\u001b[0m\n\u001b[1;32m    717\u001b[0m \u001b[39mwith\u001b[39;00m distribution\u001b[39m.\u001b[39mextended\u001b[39m.\u001b[39mcolocate_vars_with(var):\n\u001b[1;32m    718\u001b[0m   \u001b[39mwith\u001b[39;00m name_scope_only_in_function_or_graph(\n\u001b[1;32m    719\u001b[0m       \u001b[39m\"\u001b[39m\u001b[39mupdate\u001b[39m\u001b[39m\"\u001b[39m \u001b[39mif\u001b[39;00m eagerly_outside_functions \u001b[39melse\u001b[39;00m \u001b[39m\"\u001b[39m\u001b[39mupdate_\u001b[39m\u001b[39m\"\u001b[39m \u001b[39m+\u001b[39m\n\u001b[1;32m    720\u001b[0m       var\u001b[39m.\u001b[39mop\u001b[39m.\u001b[39mname):\n\u001b[0;32m--> 721\u001b[0m     update_op \u001b[39m=\u001b[39m distribution\u001b[39m.\u001b[39;49mextended\u001b[39m.\u001b[39;49mupdate(\n\u001b[1;32m    722\u001b[0m         var, apply_grad_to_update_var, args\u001b[39m=\u001b[39;49m(grad,), group\u001b[39m=\u001b[39;49m\u001b[39mFalse\u001b[39;49;00m)\n\u001b[1;32m    723\u001b[0m     \u001b[39mif\u001b[39;00m tf\u001b[39m.\u001b[39mdistribute\u001b[39m.\u001b[39min_cross_replica_context():\n\u001b[1;32m    724\u001b[0m       \u001b[39m# In cross-replica context, extended.update returns a list of\u001b[39;00m\n\u001b[1;32m    725\u001b[0m       \u001b[39m# update ops from all replicas (group=False).\u001b[39;00m\n\u001b[1;32m    726\u001b[0m       update_ops\u001b[39m.\u001b[39mextend(update_op)\n",
      "File \u001b[0;32m~/tensorflow-test/env/lib/python3.8/site-packages/tensorflow/python/distribute/distribute_lib.py:2634\u001b[0m, in \u001b[0;36mStrategyExtendedV2.update\u001b[0;34m(self, var, fn, args, kwargs, group)\u001b[0m\n\u001b[1;32m   2631\u001b[0m   fn \u001b[39m=\u001b[39m autograph\u001b[39m.\u001b[39mtf_convert(\n\u001b[1;32m   2632\u001b[0m       fn, autograph_ctx\u001b[39m.\u001b[39mcontrol_status_ctx(), convert_by_default\u001b[39m=\u001b[39m\u001b[39mFalse\u001b[39;00m)\n\u001b[1;32m   2633\u001b[0m   \u001b[39mwith\u001b[39;00m \u001b[39mself\u001b[39m\u001b[39m.\u001b[39m_container_strategy()\u001b[39m.\u001b[39mscope():\n\u001b[0;32m-> 2634\u001b[0m     \u001b[39mreturn\u001b[39;00m \u001b[39mself\u001b[39;49m\u001b[39m.\u001b[39;49m_update(var, fn, args, kwargs, group)\n\u001b[1;32m   2635\u001b[0m \u001b[39melse\u001b[39;00m:\n\u001b[1;32m   2636\u001b[0m   \u001b[39mreturn\u001b[39;00m \u001b[39mself\u001b[39m\u001b[39m.\u001b[39m_replica_ctx_update(\n\u001b[1;32m   2637\u001b[0m       var, fn, args\u001b[39m=\u001b[39margs, kwargs\u001b[39m=\u001b[39mkwargs, group\u001b[39m=\u001b[39mgroup)\n",
      "File \u001b[0;32m~/tensorflow-test/env/lib/python3.8/site-packages/tensorflow/python/distribute/distribute_lib.py:3709\u001b[0m, in \u001b[0;36m_DefaultDistributionExtended._update\u001b[0;34m(self, var, fn, args, kwargs, group)\u001b[0m\n\u001b[1;32m   3706\u001b[0m \u001b[39mdef\u001b[39;00m \u001b[39m_update\u001b[39m(\u001b[39mself\u001b[39m, var, fn, args, kwargs, group):\n\u001b[1;32m   3707\u001b[0m   \u001b[39m# The implementations of _update() and _update_non_slot() are identical\u001b[39;00m\n\u001b[1;32m   3708\u001b[0m   \u001b[39m# except _update() passes `var` as the first argument to `fn()`.\u001b[39;00m\n\u001b[0;32m-> 3709\u001b[0m   \u001b[39mreturn\u001b[39;00m \u001b[39mself\u001b[39;49m\u001b[39m.\u001b[39;49m_update_non_slot(var, fn, (var,) \u001b[39m+\u001b[39;49m \u001b[39mtuple\u001b[39;49m(args), kwargs, group)\n",
      "File \u001b[0;32m~/tensorflow-test/env/lib/python3.8/site-packages/tensorflow/python/distribute/distribute_lib.py:3715\u001b[0m, in \u001b[0;36m_DefaultDistributionExtended._update_non_slot\u001b[0;34m(self, colocate_with, fn, args, kwargs, should_group)\u001b[0m\n\u001b[1;32m   3711\u001b[0m \u001b[39mdef\u001b[39;00m \u001b[39m_update_non_slot\u001b[39m(\u001b[39mself\u001b[39m, colocate_with, fn, args, kwargs, should_group):\n\u001b[1;32m   3712\u001b[0m   \u001b[39m# TODO(josh11b): Figure out what we should be passing to UpdateContext()\u001b[39;00m\n\u001b[1;32m   3713\u001b[0m   \u001b[39m# once that value is used for something.\u001b[39;00m\n\u001b[1;32m   3714\u001b[0m   \u001b[39mwith\u001b[39;00m UpdateContext(colocate_with):\n\u001b[0;32m-> 3715\u001b[0m     result \u001b[39m=\u001b[39m fn(\u001b[39m*\u001b[39;49margs, \u001b[39m*\u001b[39;49m\u001b[39m*\u001b[39;49mkwargs)\n\u001b[1;32m   3716\u001b[0m     \u001b[39mif\u001b[39;00m should_group:\n\u001b[1;32m   3717\u001b[0m       \u001b[39mreturn\u001b[39;00m result\n",
      "File \u001b[0;32m~/tensorflow-test/env/lib/python3.8/site-packages/tensorflow/python/autograph/impl/api.py:601\u001b[0m, in \u001b[0;36mcall_with_unspecified_conversion_status.<locals>.wrapper\u001b[0;34m(*args, **kwargs)\u001b[0m\n\u001b[1;32m    599\u001b[0m \u001b[39mdef\u001b[39;00m \u001b[39mwrapper\u001b[39m(\u001b[39m*\u001b[39margs, \u001b[39m*\u001b[39m\u001b[39m*\u001b[39mkwargs):\n\u001b[1;32m    600\u001b[0m   \u001b[39mwith\u001b[39;00m ag_ctx\u001b[39m.\u001b[39mControlStatusCtx(status\u001b[39m=\u001b[39mag_ctx\u001b[39m.\u001b[39mStatus\u001b[39m.\u001b[39mUNSPECIFIED):\n\u001b[0;32m--> 601\u001b[0m     \u001b[39mreturn\u001b[39;00m func(\u001b[39m*\u001b[39;49margs, \u001b[39m*\u001b[39;49m\u001b[39m*\u001b[39;49mkwargs)\n",
      "File \u001b[0;32m~/tensorflow-test/env/lib/python3.8/site-packages/keras/optimizer_v2/optimizer_v2.py:704\u001b[0m, in \u001b[0;36mOptimizerV2._distributed_apply.<locals>.apply_grad_to_update_var\u001b[0;34m(var, grad)\u001b[0m\n\u001b[1;32m    702\u001b[0m \u001b[39mif\u001b[39;00m \u001b[39m\"\u001b[39m\u001b[39mapply_state\u001b[39m\u001b[39m\"\u001b[39m \u001b[39min\u001b[39;00m \u001b[39mself\u001b[39m\u001b[39m.\u001b[39m_dense_apply_args:\n\u001b[1;32m    703\u001b[0m   apply_kwargs[\u001b[39m\"\u001b[39m\u001b[39mapply_state\u001b[39m\u001b[39m\"\u001b[39m] \u001b[39m=\u001b[39m apply_state\n\u001b[0;32m--> 704\u001b[0m update_op \u001b[39m=\u001b[39m \u001b[39mself\u001b[39;49m\u001b[39m.\u001b[39;49m_resource_apply_dense(grad, var, \u001b[39m*\u001b[39;49m\u001b[39m*\u001b[39;49mapply_kwargs)\n\u001b[1;32m    705\u001b[0m \u001b[39mif\u001b[39;00m var\u001b[39m.\u001b[39mconstraint \u001b[39mis\u001b[39;00m \u001b[39mnot\u001b[39;00m \u001b[39mNone\u001b[39;00m:\n\u001b[1;32m    706\u001b[0m   \u001b[39mwith\u001b[39;00m tf\u001b[39m.\u001b[39mcontrol_dependencies([update_op]):\n",
      "File \u001b[0;32m~/tensorflow-test/env/lib/python3.8/site-packages/keras/optimizer_v2/adam.py:165\u001b[0m, in \u001b[0;36mAdam._resource_apply_dense\u001b[0;34m(self, grad, var, apply_state)\u001b[0m\n\u001b[1;32m    162\u001b[0m v \u001b[39m=\u001b[39m \u001b[39mself\u001b[39m\u001b[39m.\u001b[39mget_slot(var, \u001b[39m'\u001b[39m\u001b[39mv\u001b[39m\u001b[39m'\u001b[39m)\n\u001b[1;32m    164\u001b[0m \u001b[39mif\u001b[39;00m \u001b[39mnot\u001b[39;00m \u001b[39mself\u001b[39m\u001b[39m.\u001b[39mamsgrad:\n\u001b[0;32m--> 165\u001b[0m   \u001b[39mreturn\u001b[39;00m tf\u001b[39m.\u001b[39;49mraw_ops\u001b[39m.\u001b[39;49mResourceApplyAdam(\n\u001b[1;32m    166\u001b[0m       var\u001b[39m=\u001b[39;49mvar\u001b[39m.\u001b[39;49mhandle,\n\u001b[1;32m    167\u001b[0m       m\u001b[39m=\u001b[39;49mm\u001b[39m.\u001b[39;49mhandle,\n\u001b[1;32m    168\u001b[0m       v\u001b[39m=\u001b[39;49mv\u001b[39m.\u001b[39;49mhandle,\n\u001b[1;32m    169\u001b[0m       beta1_power\u001b[39m=\u001b[39;49mcoefficients[\u001b[39m'\u001b[39;49m\u001b[39mbeta_1_power\u001b[39;49m\u001b[39m'\u001b[39;49m],\n\u001b[1;32m    170\u001b[0m       beta2_power\u001b[39m=\u001b[39;49mcoefficients[\u001b[39m'\u001b[39;49m\u001b[39mbeta_2_power\u001b[39;49m\u001b[39m'\u001b[39;49m],\n\u001b[1;32m    171\u001b[0m       lr\u001b[39m=\u001b[39;49mcoefficients[\u001b[39m'\u001b[39;49m\u001b[39mlr_t\u001b[39;49m\u001b[39m'\u001b[39;49m],\n\u001b[1;32m    172\u001b[0m       beta1\u001b[39m=\u001b[39;49mcoefficients[\u001b[39m'\u001b[39;49m\u001b[39mbeta_1_t\u001b[39;49m\u001b[39m'\u001b[39;49m],\n\u001b[1;32m    173\u001b[0m       beta2\u001b[39m=\u001b[39;49mcoefficients[\u001b[39m'\u001b[39;49m\u001b[39mbeta_2_t\u001b[39;49m\u001b[39m'\u001b[39;49m],\n\u001b[1;32m    174\u001b[0m       epsilon\u001b[39m=\u001b[39;49mcoefficients[\u001b[39m'\u001b[39;49m\u001b[39mepsilon\u001b[39;49m\u001b[39m'\u001b[39;49m],\n\u001b[1;32m    175\u001b[0m       grad\u001b[39m=\u001b[39;49mgrad,\n\u001b[1;32m    176\u001b[0m       use_locking\u001b[39m=\u001b[39;49m\u001b[39mself\u001b[39;49m\u001b[39m.\u001b[39;49m_use_locking)\n\u001b[1;32m    177\u001b[0m \u001b[39melse\u001b[39;00m:\n\u001b[1;32m    178\u001b[0m   vhat \u001b[39m=\u001b[39m \u001b[39mself\u001b[39m\u001b[39m.\u001b[39mget_slot(var, \u001b[39m'\u001b[39m\u001b[39mvhat\u001b[39m\u001b[39m'\u001b[39m)\n",
      "File \u001b[0;32m~/tensorflow-test/env/lib/python3.8/site-packages/tensorflow/python/util/tf_export.py:404\u001b[0m, in \u001b[0;36mkwarg_only.<locals>.wrapper\u001b[0;34m(*args, **kwargs)\u001b[0m\n\u001b[1;32m    399\u001b[0m \u001b[39mif\u001b[39;00m args:\n\u001b[1;32m    400\u001b[0m   \u001b[39mraise\u001b[39;00m \u001b[39mTypeError\u001b[39;00m(\n\u001b[1;32m    401\u001b[0m       \u001b[39m'\u001b[39m\u001b[39m{f}\u001b[39;00m\u001b[39m only takes keyword args (possible keys: \u001b[39m\u001b[39m{kwargs}\u001b[39;00m\u001b[39m). \u001b[39m\u001b[39m'\u001b[39m\n\u001b[1;32m    402\u001b[0m       \u001b[39m'\u001b[39m\u001b[39mPlease pass these args as kwargs instead.\u001b[39m\u001b[39m'\u001b[39m\n\u001b[1;32m    403\u001b[0m       \u001b[39m.\u001b[39mformat(f\u001b[39m=\u001b[39mf\u001b[39m.\u001b[39m\u001b[39m__name__\u001b[39m, kwargs\u001b[39m=\u001b[39mf_argspec\u001b[39m.\u001b[39margs))\n\u001b[0;32m--> 404\u001b[0m \u001b[39mreturn\u001b[39;00m f(\u001b[39m*\u001b[39;49m\u001b[39m*\u001b[39;49mkwargs)\n",
      "File \u001b[0;32m~/tensorflow-test/env/lib/python3.8/site-packages/tensorflow/python/ops/gen_training_ops.py:1427\u001b[0m, in \u001b[0;36mresource_apply_adam\u001b[0;34m(var, m, v, beta1_power, beta2_power, lr, beta1, beta2, epsilon, grad, use_locking, use_nesterov, name)\u001b[0m\n\u001b[1;32m   1425\u001b[0m   \u001b[39mreturn\u001b[39;00m _result\n\u001b[1;32m   1426\u001b[0m \u001b[39mexcept\u001b[39;00m _core\u001b[39m.\u001b[39m_NotOkStatusException \u001b[39mas\u001b[39;00m e:\n\u001b[0;32m-> 1427\u001b[0m   _ops\u001b[39m.\u001b[39;49mraise_from_not_ok_status(e, name)\n\u001b[1;32m   1428\u001b[0m \u001b[39mexcept\u001b[39;00m _core\u001b[39m.\u001b[39m_FallbackException:\n\u001b[1;32m   1429\u001b[0m   \u001b[39mpass\u001b[39;00m\n",
      "File \u001b[0;32m~/tensorflow-test/env/lib/python3.8/site-packages/tensorflow/python/framework/ops.py:7107\u001b[0m, in \u001b[0;36mraise_from_not_ok_status\u001b[0;34m(e, name)\u001b[0m\n\u001b[1;32m   7105\u001b[0m \u001b[39mdef\u001b[39;00m \u001b[39mraise_from_not_ok_status\u001b[39m(e, name):\n\u001b[1;32m   7106\u001b[0m   e\u001b[39m.\u001b[39mmessage \u001b[39m+\u001b[39m\u001b[39m=\u001b[39m (\u001b[39m\"\u001b[39m\u001b[39m name: \u001b[39m\u001b[39m\"\u001b[39m \u001b[39m+\u001b[39m name \u001b[39mif\u001b[39;00m name \u001b[39mis\u001b[39;00m \u001b[39mnot\u001b[39;00m \u001b[39mNone\u001b[39;00m \u001b[39melse\u001b[39;00m \u001b[39m\"\u001b[39m\u001b[39m\"\u001b[39m)\n\u001b[0;32m-> 7107\u001b[0m   \u001b[39mraise\u001b[39;00m core\u001b[39m.\u001b[39m_status_to_exception(e) \u001b[39mfrom\u001b[39;00m \u001b[39mNone\u001b[39m\n",
      "\u001b[0;31mNotFoundError\u001b[0m: No registered 'ResourceApplyAdam' OpKernel for 'GPU' devices compatible with node {{node ResourceApplyAdam}}\n\t (OpKernel was found, but attributes didn't match) Requested Attributes: T=DT_DOUBLE, use_locking=true, use_nesterov=false\n\t.  Registered:  device='GPU'; T in [DT_FLOAT]\n  device='CPU'; T in [DT_HALF]\n  device='CPU'; T in [DT_BFLOAT16]\n  device='CPU'; T in [DT_FLOAT]\n  device='CPU'; T in [DT_DOUBLE]\n  device='CPU'; T in [DT_COMPLEX64]\n  device='CPU'; T in [DT_COMPLEX128]\n [Op:ResourceApplyAdam]"
     ]
    }
   ],
   "source": [
    "neural_model = regular_train(model, train_ds=train_ds)"
   ]
  },
  {
   "cell_type": "code",
   "execution_count": 41,
   "metadata": {},
   "outputs": [],
   "source": [
    "model = SineModel() "
   ]
  },
  {
   "cell_type": "code",
   "execution_count": 44,
   "metadata": {},
   "outputs": [
    {
     "ename": "NotImplementedError",
     "evalue": "When subclassing the `Model` class, you should implement a `call()` method.",
     "output_type": "error",
     "traceback": [
      "\u001b[0;31m---------------------------------------------------------------------------\u001b[0m",
      "\u001b[0;31mNotImplementedError\u001b[0m                       Traceback (most recent call last)",
      "\u001b[1;32m/Users/sam/Desktop/projects/maml/sine_model.ipynb Cell 13\u001b[0m in \u001b[0;36m<module>\u001b[0;34m\u001b[0m\n\u001b[0;32m----> <a href='vscode-notebook-cell:/Users/sam/Desktop/projects/maml/sine_model.ipynb#X15sZmlsZQ%3D%3D?line=0'>1</a>\u001b[0m model\u001b[39m.\u001b[39;49mbuild(input_shape\u001b[39m=\u001b[39;49m(\u001b[39m1\u001b[39;49m, ))\n",
      "File \u001b[0;32m~/tensorflow-test/env/lib/python3.8/site-packages/keras/engine/training.py:440\u001b[0m, in \u001b[0;36mModel.build\u001b[0;34m(self, input_shape)\u001b[0m\n\u001b[1;32m    436\u001b[0m   \u001b[39mraise\u001b[39;00m \u001b[39mValueError\u001b[39;00m(\n\u001b[1;32m    437\u001b[0m       \u001b[39m'\u001b[39m\u001b[39mYou can only call `build()` on a model if its `call()` \u001b[39m\u001b[39m'\u001b[39m\n\u001b[1;32m    438\u001b[0m       \u001b[39m'\u001b[39m\u001b[39mmethod accepts an `inputs` argument.\u001b[39m\u001b[39m'\u001b[39m)\n\u001b[1;32m    439\u001b[0m \u001b[39mtry\u001b[39;00m:\n\u001b[0;32m--> 440\u001b[0m   \u001b[39mself\u001b[39;49m\u001b[39m.\u001b[39;49mcall(x, \u001b[39m*\u001b[39;49m\u001b[39m*\u001b[39;49mkwargs)\n\u001b[1;32m    441\u001b[0m \u001b[39mexcept\u001b[39;00m (tf\u001b[39m.\u001b[39merrors\u001b[39m.\u001b[39mInvalidArgumentError, \u001b[39mTypeError\u001b[39;00m) \u001b[39mas\u001b[39;00m e:\n\u001b[1;32m    442\u001b[0m   \u001b[39mraise\u001b[39;00m \u001b[39mValueError\u001b[39;00m(\u001b[39m'\u001b[39m\u001b[39mYou cannot build your model by calling `build` \u001b[39m\u001b[39m'\u001b[39m\n\u001b[1;32m    443\u001b[0m                    \u001b[39m'\u001b[39m\u001b[39mif your layers do not support float type inputs. \u001b[39m\u001b[39m'\u001b[39m\n\u001b[1;32m    444\u001b[0m                    \u001b[39m'\u001b[39m\u001b[39mInstead, in order to instantiate and build your \u001b[39m\u001b[39m'\u001b[39m\n\u001b[1;32m    445\u001b[0m                    \u001b[39m'\u001b[39m\u001b[39mmodel, call your model on real tensor data (of \u001b[39m\u001b[39m'\u001b[39m\n\u001b[1;32m    446\u001b[0m                    \u001b[39m'\u001b[39m\u001b[39mthe correct dtype).\u001b[39m\u001b[39m\\n\u001b[39;00m\u001b[39m\\n\u001b[39;00m\u001b[39mThe actual error from \u001b[39m\u001b[39m'\u001b[39m\n\u001b[1;32m    447\u001b[0m                    \u001b[39mf\u001b[39m\u001b[39m'\u001b[39m\u001b[39m`call` is: \u001b[39m\u001b[39m{\u001b[39;00me\u001b[39m}\u001b[39;00m\u001b[39m.\u001b[39m\u001b[39m'\u001b[39m)\n",
      "File \u001b[0;32m~/tensorflow-test/env/lib/python3.8/site-packages/keras/engine/training.py:475\u001b[0m, in \u001b[0;36mModel.call\u001b[0;34m(self, inputs, training, mask)\u001b[0m\n\u001b[1;32m    450\u001b[0m \u001b[39m@doc_controls\u001b[39m\u001b[39m.\u001b[39mdoc_in_current_and_subclasses\n\u001b[1;32m    451\u001b[0m \u001b[39mdef\u001b[39;00m \u001b[39mcall\u001b[39m(\u001b[39mself\u001b[39m, inputs, training\u001b[39m=\u001b[39m\u001b[39mNone\u001b[39;00m, mask\u001b[39m=\u001b[39m\u001b[39mNone\u001b[39;00m):\n\u001b[1;32m    452\u001b[0m   \u001b[39m\"\"\"Calls the model on new inputs and returns the outputs as tensors.\u001b[39;00m\n\u001b[1;32m    453\u001b[0m \n\u001b[1;32m    454\u001b[0m \u001b[39m  In this case `call()` just reapplies\u001b[39;00m\n\u001b[0;32m   (...)\u001b[0m\n\u001b[1;32m    473\u001b[0m \u001b[39m      a list of tensors if there are more than one outputs.\u001b[39;00m\n\u001b[1;32m    474\u001b[0m \u001b[39m  \"\"\"\u001b[39;00m\n\u001b[0;32m--> 475\u001b[0m   \u001b[39mraise\u001b[39;00m \u001b[39mNotImplementedError\u001b[39;00m(\u001b[39m'\u001b[39m\u001b[39mWhen subclassing the `Model` class, you should \u001b[39m\u001b[39m'\u001b[39m\n\u001b[1;32m    476\u001b[0m                             \u001b[39m'\u001b[39m\u001b[39mimplement a `call()` method.\u001b[39m\u001b[39m'\u001b[39m)\n",
      "\u001b[0;31mNotImplementedError\u001b[0m: When subclassing the `Model` class, you should implement a `call()` method."
     ]
    }
   ],
   "source": [
    "model.build(input_shape=(1, ))"
   ]
  },
  {
   "cell_type": "code",
   "execution_count": 51,
   "metadata": {},
   "outputs": [],
   "source": [
    "sinu_generator = SinusoidGenerator(K=10, amplitude=1, phase=0)"
   ]
  },
  {
   "cell_type": "code",
   "execution_count": 68,
   "metadata": {},
   "outputs": [
    {
     "name": "stdout",
     "output_type": "stream",
     "text": [
      "[-5.         -3.88888889 -2.77777778 -1.66666667 -0.55555556  0.55555556\n",
      "  1.66666667  2.77777778  3.88888889  5.        ]\n",
      "None\n",
      "0 10\n",
      "None\n",
      "1 10\n",
      "None\n",
      "2 10\n",
      "None\n",
      "3 10\n",
      "None\n",
      "4 10\n",
      "None\n",
      "5 10\n",
      "None\n",
      "6 10\n",
      "None\n",
      "7 10\n",
      "None\n",
      "8 10\n",
      "None\n",
      "9 10\n",
      "None\n",
      "0 10\n"
     ]
    }
   ],
   "source": [
    "sinu_generator = SinusoidGenerator(K=10, phase=0)\n",
    "\n",
    "xs, ys = sinu_generator.equally_spaced_samples(K=10)\n",
    "xs, ys\n",
    "\n",
    "train_size = 10; test_size = 1\n",
    "\n",
    "train_generators = [SinusoidGenerator(K=10, phase=0) for _ in range(train_size)]\n",
    "test_generators = [SinusoidGenerator(K=10, phase=0) for _ in range(test_size)]\n",
    "\n",
    "\n",
    "for e, train_dg in enumerate(train_generators):\n",
    "    print(e, len(train_dg.batch()[0]))\n",
    "\n",
    "for e, test_dg in enumerate(test_generators):\n",
    "    print(e, len(test_dg.batch()[1]))\n"
   ]
  },
  {
   "cell_type": "code",
   "execution_count": 97,
   "metadata": {},
   "outputs": [
    {
     "data": {
      "image/png": "[encoded data removed]",
      "text/plain": [
       "<Figure size 432x288 with 1 Axes>"
      ]
     },
     "metadata": {
      "needs_background": "light"
     },
     "output_type": "display_data"
    }
   ],
   "source": [
    "class SineWaveTask:\n",
    "    def __init__(self):\n",
    "        self.a = np.random.uniform(0.1, 5.0)\n",
    "        self.b = np.random.uniform(0, 2*np.pi) \n",
    "        self.train_x = None \n",
    "    \n",
    "    def f(self, x):\n",
    "        return self.a * np.sin(x + self.b)\n",
    "\n",
    "    def training_set(self, size=10, force_new=False):\n",
    "        if self.train_x is None and not force_new:\n",
    "            self.train_x = np.random.uniform(-5, 5, size) \n",
    "            x = self.train_x \n",
    "        elif not force_new: \n",
    "            x = self.train_x \n",
    "        else: \n",
    "            x = np.random.uniform(-5, 5, size) \n",
    "        y = self.f(x) \n",
    "        return x, y\n",
    "    \n",
    "    def test_set(self, size=50):\n",
    "        x = np.linspace(-5, 5, size)\n",
    "        y = self.f(x) \n",
    "        return x, y\n",
    "\n",
    "    def plot(self, *args, **kwargs):\n",
    "        x, y = self.test_set(size=100)\n",
    "        return plt.plot(x, y, *args, **kwargs)\n",
    "\n",
    "\n",
    "y_avg = np.zeros(50)\n",
    "for i in range(1000):\n",
    "    swt = SineWaveTask()\n",
    "    x, curr_y = swt.test_set()\n",
    "    y_avg += curr_y\n",
    "\n",
    "y_avg /= 1000\n",
    "plt.figure()\n",
    "plt.plot(x, y_avg, '-', label='average')\n",
    "SineWaveTask().plot('-', label='random')\n",
    "plt.legend()\n",
    "plt.grid(); plt.title(\"Average-to-Random plot\")\n",
    "plt.show()"
   ]
  },
  {
   "cell_type": "code",
   "execution_count": null,
   "metadata": {},
   "outputs": [],
   "source": [
    "xs, ys = "
   ]
  },
  {
   "cell_type": "code",
   "execution_count": 72,
   "metadata": {},
   "outputs": [],
   "source": [
    "import tensorflow as tf \n",
    "from tensorflow.keras.models import Model \n",
    "from tensorflow.keras.optimizers import Adam \n",
    "from tensorflow.keras.layers import Dense \n",
    "from tensorflow.keras.activations import relu \n",
    "from tensorflow.keras import losses "
   ]
  },
  {
   "cell_type": "markdown",
   "metadata": {},
   "source": [
    "# Build a Single Task sine function regression model"
   ]
  },
  {
   "cell_type": "code",
   "execution_count": 99,
   "metadata": {},
   "outputs": [],
   "source": [
    "import tensorflow as tf \n",
    "from tensorflow.keras.models import Model\n",
    "from tensorflow.keras.layers import Dense \n"
   ]
  },
  {
   "cell_type": "code",
   "execution_count": 100,
   "metadata": {},
   "outputs": [],
   "source": [
    "class SineModel(Model):\n",
    "    def __init__(self):\n",
    "        super(SineModel, self).__init__() \n",
    "        self.hidden1 = Dense(40, activation='relu', input_shape=(1,))\n",
    "        self.hidden2 = Dense(40, activation='relu')\n",
    "        self.out = Dense(1, activation='linear')\n",
    "    \n",
    "    def call(self, x):\n",
    "        x = self.hidden1(x)\n",
    "        x = self.hidden2(x) \n",
    "        x = self.out(x)\n",
    "        return x \n",
    "\n",
    "    "
   ]
  },
  {
   "cell_type": "code",
   "execution_count": 105,
   "metadata": {},
   "outputs": [
    {
     "data": {
      "image/png": "[encoded data removed]",
      "text/plain": [
       "<Figure size 432x288 with 1 Axes>"
      ]
     },
     "metadata": {
      "needs_background": "light"
     },
     "output_type": "display_data"
    }
   ],
   "source": [
    "sinu_generator = SineWaveTask()\n",
    "train_xs, train_ys = sinu_generator.training_set(size=10, force_new=True)\n",
    "train_xs, train_ys \n",
    "\n",
    "plt.plot(train_xs, train_ys, 'o')\n",
    "plt.show()"
   ]
  },
  {
   "cell_type": "code",
   "execution_count": null,
   "metadata": {},
   "outputs": [],
   "source": []
  }
 ],
 "metadata": {
  "kernelspec": {
   "display_name": "Python 3.8.12",
   "language": "python",
   "name": "python3"
  },
  "language_info": {
   "codemirror_mode": {
    "name": "ipython",
    "version": 3
   },
   "file_extension": ".py",
   "mimetype": "text/x-python",
   "name": "python",
   "nbconvert_exporter": "python",
   "pygments_lexer": "ipython3",
   "version": "3.8.12"
  },
  "orig_nbformat": 4,
  "vscode": {
   "interpreter": {
    "hash": "f14269bf3ad7aa2ae115b9ca9481e15e8eacecd83dc3347ac1efd388ad78cc6e"
   }
  }
 },
 "nbformat": 4,
 "nbformat_minor": 2
}
