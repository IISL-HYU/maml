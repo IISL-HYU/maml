{
 "cells": [
  {
   "cell_type": "code",
   "execution_count": 1,
   "metadata": {},
   "outputs": [],
   "source": [
    "from tensorflow.keras.utils import plot_model\n",
    "import tensorflow.keras as keras \n"
   ]
  },
  {
   "cell_type": "markdown",
   "metadata": {},
   "source": [
    "### ANN model for sine fitting"
   ]
  },
  {
   "cell_type": "code",
   "execution_count": 2,
   "metadata": {},
   "outputs": [],
   "source": [
    "class SineModel(keras.Model):\n",
    "    def __init__(self):\n",
    "        super().__init__()\n",
    "        self.hidden1 = keras.layers.Dense(40, input_shape=(1,))\n",
    "        self.hidden2 = keras.layers.Dense(40)\n",
    "        self.out = keras.layers.Dense(1) \n",
    "    \n",
    "    def forward(self, x):\n",
    "        x = keras.activations.relu(self.hidden1(x))\n",
    "        x = keras.activations.relu(self.hidden2(x))\n",
    "        x = self.out(x) \n",
    "        return x "
   ]
  },
  {
   "cell_type": "markdown",
   "metadata": {},
   "source": [
    "### Sinusoid Generator"
   ]
  },
  {
   "cell_type": "code",
   "execution_count": 3,
   "metadata": {},
   "outputs": [],
   "source": [
    "import numpy as np \n",
    "import matplotlib.pyplot as plt \n",
    "\n",
    "class SinusoidGenerator():\n",
    "    ''' \n",
    "    Sinusoid Generator.\n",
    "\n",
    "    p(T) is continuous, where the amplitude varies within [0.1, 5.0]\n",
    "    and the phase varies within [0, pi]\n",
    "    '''\n",
    "\n",
    "    def __init__(self, K=10, amplitude=None, phase=None):\n",
    "        ''' \n",
    "        Args:\n",
    "        K: batch size. Number of values sampled at every batch\n",
    "        amplitude: Sine wave Amplitude. If None, uniformly sampled from [0.1, 5.0]\n",
    "        phase: Sine wave phase. If None, uniformly sample from [0, pi] interval\n",
    "        '''\n",
    "        self.K = K \n",
    "        self.amplitude = amplitude if amplitude else np.random.uniform(0.1, 5.0)\n",
    "        self.phase = phase if amplitude else np.random.uniform(0, np.pi)\n",
    "        self.sampled_points = None \n",
    "        self.x = self._sample_x() \n",
    "    \n",
    "    def _sample_x(self):\n",
    "        return np.random.uniform(-5, 5, self.K) \n",
    "\n",
    "    def f(self, x):\n",
    "        '''Sine wave function'''\n",
    "        return self.amplitude * np.sin(x - self.phase) \n",
    "\n",
    "    def batch(self, x = None, force_new=False):\n",
    "        print(x)\n",
    "        if x is None:\n",
    "            if force_new:\n",
    "                x = self._sample_x() \n",
    "            else: \n",
    "                x = self.x \n",
    "        y = self.f(x) \n",
    "        return x[:, None], y[:, None] \n",
    "\n",
    "    def equally_spaced_samples(self, K=None):\n",
    "        \"\"\"Returns `K` equally spaced samples\"\"\"\n",
    "        if K is None:\n",
    "            K = self.K \n",
    "        return self.batch(x=np.linspace(-5, 5, K))"
   ]
  },
  {
   "cell_type": "markdown",
   "metadata": {},
   "source": [
    "### Util Functions"
   ]
  },
  {
   "cell_type": "code",
   "execution_count": 4,
   "metadata": {},
   "outputs": [],
   "source": [
    "def plot(data, *args, **kwargs):\n",
    "    x, y = data \n",
    "    return plt.plot(x, y, *args, **kwargs) \n",
    "\n",
    "def generate_dataset(K, train_size=20000, test_size=10):\n",
    "    def _generate_dataset(size):\n",
    "        return [SinusoidGenerator(K=K) for _ in range(size)]\n",
    "    return _generate_dataset(train_size), _generate_dataset(test_size)"
   ]
  },
  {
   "cell_type": "markdown",
   "metadata": {},
   "source": [
    "### Train Sine Model "
   ]
  },
  {
   "cell_type": "code",
   "execution_count": 6,
   "metadata": {},
   "outputs": [],
   "source": [
    "import os \n",
    "import sys \n",
    "import random \n",
    "import numpy as np \n",
    "import tensorflow as tf \n",
    "import time \n",
    "import matplotlib.pyplot as plt \n",
    "\n",
    "tf.keras.backend.set_floatx('float64')\n",
    "\n",
    "def np_to_tensor(list_of_numpy_objs):\n",
    "    return (tf.convert_to_tensor(obj) for obj in list_of_numpy_objs)\n",
    "\n",
    "def copy_model(mode, x):\n",
    "    copied_model = SineModel() \n",
    "    copied_model.forward(x) \n",
    "    copied_model.set_weights(mode.get_weights())\n",
    "    return copied_model \n",
    "\n",
    "def loss_fn(y, pred_y):\n",
    "    return tf.reduce_mean(tf.keras.metrics.mean_squared_error(y, pred_y))\n",
    "\n",
    "def compute_loss(model, x, y, loss_fn=loss_fn):\n",
    "    logits = model.forward(x) \n",
    "    mse = loss_fn(logits, y) \n",
    "    return mse, logits \n",
    "\n",
    "def compute_gradients(model, x, y, loss_fn=loss_fn):\n",
    "    with tf.GradientTape() as tape:\n",
    "        loss, logits = compute_loss(model, x, y, loss_fn) \n",
    "    return tape.gradient(loss, model.trainable_variables), loss \n",
    "\n",
    "def apply_gradients(optimizer, gradients, variables):\n",
    "    optimizer.apply_gradients(zip(gradients, variables))\n",
    "\n",
    "def train_step(x, y, model, optimizer):\n",
    "    tensor_x, tensor_y = np_to_tensor((x, y))\n",
    "    gradients, loss = compute_gradients(model, tensor_x, tensor_y)\n",
    "    apply_gradients(optimizer, gradients, model.trainable_variables)\n",
    "    return loss \n"
   ]
  },
  {
   "cell_type": "code",
   "execution_count": null,
   "metadata": {},
   "outputs": [],
   "source": []
  }
 ],
 "metadata": {
  "kernelspec": {
   "display_name": "Python 3.8.13 ('tfenv')",
   "language": "python",
   "name": "python3"
  },
  "language_info": {
   "codemirror_mode": {
    "name": "ipython",
    "version": 3
   },
   "file_extension": ".py",
   "mimetype": "text/x-python",
   "name": "python",
   "nbconvert_exporter": "python",
   "pygments_lexer": "ipython3",
   "version": "3.8.13"
  },
  "orig_nbformat": 4,
  "vscode": {
   "interpreter": {
    "hash": "2f5b81e4d5ffe865455abfc95d84d12ec77a2021f6e27c6b9af31a0e77a4cf1c"
   }
  }
 },
 "nbformat": 4,
 "nbformat_minor": 2
}
